{
 "cells": [
  {
   "cell_type": "code",
   "execution_count": null,
   "metadata": {},
   "outputs": [],
   "source": []
  },
  {
   "cell_type": "code",
   "execution_count": 3,
   "metadata": {},
   "outputs": [
    {
     "name": "stdout",
     "output_type": "stream",
     "text": [
      "0.8500000000000001\n"
     ]
    }
   ],
   "source": [
    "weight = 0.1\n",
    "\n",
    "def neural_network(_input, weight):\n",
    "    tahmin = _input * weight\n",
    "    return tahmin\n",
    "\n",
    "# oyuncuların yetenekleri\n",
    "data = [8.5, 9.5, 9, 10]\n",
    "\n",
    "_input = data[0]\n",
    "\n",
    "tahmin = neural_network(_input, weight)\n",
    "print(tahmin)\n",
    "    "
   ]
  },
  {
   "cell_type": "markdown",
   "metadata": {},
   "source": [
    "# +++++++++++++++++++++++++++++++++++++++++++++++++++++++++"
   ]
  },
  {
   "cell_type": "code",
   "execution_count": 4,
   "metadata": {},
   "outputs": [
    {
     "ename": "NameError",
     "evalue": "name 'oyuncunun_yetenekleri' is not defined",
     "output_type": "error",
     "traceback": [
      "\u001b[0;31m---------------------------------------------------------------------------\u001b[0m",
      "\u001b[0;31mNameError\u001b[0m                                 Traceback (most recent call last)",
      "\u001b[0;32m<ipython-input-4-24c6cd512e3e>\u001b[0m in \u001b[0;36m<module>\u001b[0;34m\u001b[0m\n\u001b[1;32m      1\u001b[0m \u001b[0mweights\u001b[0m \u001b[0;34m=\u001b[0m               \u001b[0;34m[\u001b[0m\u001b[0;36m0.1\u001b[0m\u001b[0;34m,\u001b[0m  \u001b[0;36m0.2\u001b[0m\u001b[0;34m,\u001b[0m \u001b[0;36m0\u001b[0m \u001b[0;34m]\u001b[0m \u001b[0;31m#feature'lar için ağırlıklar ~bias\u001b[0m\u001b[0;34m\u001b[0m\u001b[0;34m\u001b[0m\u001b[0m\n\u001b[1;32m      2\u001b[0m \u001b[0;34m\u001b[0m\u001b[0m\n\u001b[0;32m----> 3\u001b[0;31m \u001b[0m_input\u001b[0m \u001b[0;34m=\u001b[0m \u001b[0;34m[\u001b[0m\u001b[0moyuncunun_yetenekleri\u001b[0m\u001b[0;34m[\u001b[0m\u001b[0;36m0\u001b[0m\u001b[0;34m]\u001b[0m\u001b[0;34m,\u001b[0m \u001b[0middia_oranları\u001b[0m\u001b[0;34m[\u001b[0m\u001b[0;36m0\u001b[0m\u001b[0;34m]\u001b[0m\u001b[0;34m,\u001b[0m \u001b[0mtaraftar_sayısı\u001b[0m\u001b[0;34m[\u001b[0m\u001b[0;36m0\u001b[0m\u001b[0;34m]\u001b[0m\u001b[0;34m]\u001b[0m\u001b[0;34m\u001b[0m\u001b[0;34m\u001b[0m\u001b[0m\n\u001b[0m",
      "\u001b[0;31mNameError\u001b[0m: name 'oyuncunun_yetenekleri' is not defined"
     ]
    }
   ],
   "source": [
    "\n",
    "weights =               [0.1,  0.2, 0 ] #feature'lar için ağırlıklar ~bias\n",
    "\n",
    "_input = [oyuncunun_yetenekleri[0], iddia_oranları[0], taraftar_sayısı[0]]"
   ]
  },
  {
   "cell_type": "code",
   "execution_count": 6,
   "metadata": {},
   "outputs": [],
   "source": [
    "def neural_networks(_input, weights):\n",
    "    tahmin = weight_sum(_input, weights)\n",
    "    return tahmin\n",
    "\n",
    "def weight_sum(a, b):\n",
    "    assert(len(a)==len(b))\n",
    "    \n",
    "    output = 0\n",
    "    for i in range(len(a)):\n",
    "        output += a[i] * b[i]\n",
    "    \n",
    "    return output"
   ]
  },
  {
   "cell_type": "code",
   "execution_count": null,
   "metadata": {},
   "outputs": [],
   "source": [
    "tahmin = neural_networks(_input, weights)\n",
    "\n",
    "print(tahmin)"
   ]
  },
  {
   "cell_type": "markdown",
   "metadata": {},
   "source": [
    "# ++++++++++++++++++++++++++++++++++++++++++++++++++++++++++++"
   ]
  },
  {
   "cell_type": "code",
   "execution_count": 7,
   "metadata": {},
   "outputs": [
    {
     "name": "stdout",
     "output_type": "stream",
     "text": [
      "0.9800000000000001\n"
     ]
    }
   ],
   "source": [
    "import numpy as np \n",
    "\n",
    "weights = np.array([0.1,  0.2, 0])\n",
    "\n",
    "def neural_network(_input, weights):\n",
    "    tahmin = _input.dot(weights) \n",
    "    return tahmin\n",
    "\n",
    "oyuncunun_yetenekleri = [8.5,  9.5, 9,   10]\n",
    "iddia_oranları =        [0.65, 0.8, 0.8, 0.9]\n",
    "taraftar_sayısı =       [1.2,  1.3, 0.5, 1.0]\n",
    "\n",
    "_input = np.array([oyuncunun_yetenekleri[0], iddia_oranları[0], taraftar_sayısı[0]])\n",
    "\n",
    "tahmin = neural_network(_input, weights)\n",
    "\n",
    "print(tahmin)"
   ]
  },
  {
   "cell_type": "code",
   "execution_count": 8,
   "metadata": {},
   "outputs": [
    {
     "ename": "SyntaxError",
     "evalue": "invalid syntax (<ipython-input-8-50171d81a189>, line 4)",
     "output_type": "error",
     "traceback": [
      "\u001b[0;36m  File \u001b[0;32m\"<ipython-input-8-50171d81a189>\"\u001b[0;36m, line \u001b[0;32m4\u001b[0m\n\u001b[0;31m    tahmin = pass\u001b[0m\n\u001b[0m             ^\u001b[0m\n\u001b[0;31mSyntaxError\u001b[0m\u001b[0;31m:\u001b[0m invalid syntax\n"
     ]
    }
   ],
   "source": [
    "weights = [0.3, 0.2, 0.9]\n",
    "\n",
    "def neural_network(_input, weights):\n",
    "    tahmin = pass \n",
    "    return\n",
    "\n",
    "a = np.array([1, 2, 3])\n",
    "b = np.array([2, 3, 4])\n",
    "\n",
    "iddia_oranları = [0.65, 0.8, 0.8, 0.9]\n",
    "_input = [iddia_oranları[0]]\n",
    "tahmin = neural_network(_input, weights)\n",
    "\n",
    "print(tahmin)"
   ]
  },
  {
   "cell_type": "code",
   "execution_count": 29,
   "metadata": {},
   "outputs": [
    {
     "name": "stdout",
     "output_type": "stream",
     "text": [
      "tek bir elemanın kapladığı alan:  48 byte\n",
      "tüm elemanların kapladığı alan: 480000 byte\n",
      "\n",
      "\n",
      "\n",
      "(numpy)tek bir elemanın kapladığı alan:  8 byte\n",
      "(numpy)tüm elemanların kapladığı alan: 80000 byte\n"
     ]
    }
   ],
   "source": [
    "# numpy'da optimizasyon \n",
    "import numpy as np \n",
    "import time\n",
    "import sys \n",
    "\n",
    "# liste = [i for i in range(10000)]\n",
    "liste = range(10000)\n",
    "\n",
    "n_array = np.arange(10000)\n",
    "print(\"tek bir elemanın kapladığı alan: \", sys.getsizeof(liste) , \"byte\")\n",
    "print(\"tüm elemanların kapladığı alan:\", sys.getsizeof(liste) * len(liste)  , \"byte\")\n",
    "print(\"\\n\\n\")\n",
    "print(\"(numpy)tek bir elemanın kapladığı alan: \", n_array.itemsize , \"byte\")\n",
    "print(\"(numpy)tüm elemanların kapladığı alan:\", n_array.itemsize * n_array.size  , \"byte\")"
   ]
  },
  {
   "cell_type": "code",
   "execution_count": 15,
   "metadata": {},
   "outputs": [
    {
     "name": "stdout",
     "output_type": "stream",
     "text": [
      "liste operasyonu için geçen zaman =  1.0111110210418701\n"
     ]
    }
   ],
   "source": [
    "boyut = 5000000\n",
    "liste_1 = range(boyut)\n",
    "liste_2 = range(boyut)\n",
    "\n",
    "array_1 = np.arange(boyut)\n",
    "array_2 = np.arange(boyut)\n",
    "\n",
    "ilk_zaman = time.time()\n",
    "\n",
    "sonuç = [(a*b) for a,b in zip(liste_1, liste_2)]\n",
    "\n",
    "print(\"liste operasyonu için geçen zaman = \", (time.time() - ilk_zaman))"
   ]
  },
  {
   "cell_type": "code",
   "execution_count": 16,
   "metadata": {},
   "outputs": [
    {
     "name": "stdout",
     "output_type": "stream",
     "text": [
      "numpy operasyonu için geçen zaman =  0.14957714080810547\n"
     ]
    }
   ],
   "source": [
    "ilk_zaman2 = time.time()\n",
    "\n",
    "sonuç = array_1 * array_2\n",
    "\n",
    "print(\"numpy operasyonu için geçen zaman = \", (time.time() - ilk_zaman2))"
   ]
  },
  {
   "cell_type": "code",
   "execution_count": null,
   "metadata": {},
   "outputs": [],
   "source": []
  },
  {
   "cell_type": "code",
   "execution_count": 32,
   "metadata": {},
   "outputs": [
    {
     "name": "stdout",
     "output_type": "stream",
     "text": [
      "0.004224999999999993\n"
     ]
    }
   ],
   "source": [
    "weight = 0.1\n",
    "\n",
    "def neural_network(_input, weight):\n",
    "    tahmin = _input * weight\n",
    "    return tahmin \n",
    "\n",
    "oyuncu_yetenekleri = [8.5]\n",
    "sonuçlar = [1]\n",
    "\n",
    "_input = oyuncu_yetenekleri[0]\n",
    "gerçek_sonuç = sonuçlar[0]\n",
    "\n",
    "learning_rate = 0.01\n",
    "tahmin_2 = neural_network(_input, weight+learning_rate)\n",
    "hata_2 = (tahmin_2- gerçek_sonuç) ** 2\n",
    "\n",
    "print(hata_2)"
   ]
  },
  {
   "cell_type": "code",
   "execution_count": 33,
   "metadata": {},
   "outputs": [
    {
     "name": "stdout",
     "output_type": "stream",
     "text": [
      "0.05522499999999994\n"
     ]
    }
   ],
   "source": [
    "weight = 0.1\n",
    "\n",
    "def neural_network(_input, weight):\n",
    "    tahmin = _input * weight\n",
    "    return tahmin \n",
    "\n",
    "oyuncu_yetenekleri = [8.5]\n",
    "sonuçlar = [1]\n",
    "\n",
    "_input = oyuncu_yetenekleri[0]\n",
    "gerçek_sonuç = sonuçlar[0]\n",
    "\n",
    "learning_rate = 0.01\n",
    "tahmin_3 = neural_network(_input, weight-learning_rate)\n",
    "hata_3 = (tahmin_3- gerçek_sonuç) ** 2\n",
    "\n",
    "print(hata_3)"
   ]
  },
  {
   "cell_type": "code",
   "execution_count": 43,
   "metadata": {
    "scrolled": true
   },
   "outputs": [
    {
     "name": "stdout",
     "output_type": "stream",
     "text": [
      "hata:  0.30250000000000005 tahmin:  0.25\n",
      "hata:  0.29702500000000004 tahmin:  0.255\n",
      "hata:  0.2916 tahmin:  0.26\n",
      "hata:  0.286225 tahmin:  0.265\n",
      "hata:  0.28090000000000004 tahmin:  0.27\n",
      "hata:  0.275625 tahmin:  0.275\n",
      "hata:  0.27040000000000003 tahmin:  0.28\n",
      "hata:  0.265225 tahmin:  0.28500000000000003\n",
      "hata:  0.2601 tahmin:  0.29000000000000004\n",
      "hata:  0.255025 tahmin:  0.29500000000000004\n",
      "hata:  0.25 tahmin:  0.30000000000000004\n",
      "hata:  0.245025 tahmin:  0.30500000000000005\n",
      "hata:  0.24009999999999998 tahmin:  0.31000000000000005\n",
      "hata:  0.235225 tahmin:  0.31500000000000006\n",
      "hata:  0.2304 tahmin:  0.32000000000000006\n",
      "hata:  0.225625 tahmin:  0.32500000000000007\n",
      "hata:  0.22089999999999999 tahmin:  0.33000000000000007\n",
      "hata:  0.21622499999999997 tahmin:  0.3350000000000001\n",
      "hata:  0.21159999999999995 tahmin:  0.3400000000000001\n",
      "hata:  0.20702499999999996 tahmin:  0.3450000000000001\n",
      "hata:  0.20249999999999996 tahmin:  0.3500000000000001\n",
      "hata:  0.19802499999999995 tahmin:  0.3550000000000001\n",
      "hata:  0.19359999999999997 tahmin:  0.3600000000000001\n",
      "hata:  0.18922499999999995 tahmin:  0.3650000000000001\n",
      "hata:  0.18489999999999995 tahmin:  0.3700000000000001\n",
      "hata:  0.18062499999999995 tahmin:  0.3750000000000001\n",
      "hata:  0.17639999999999995 tahmin:  0.3800000000000001\n",
      "hata:  0.17222499999999993 tahmin:  0.3850000000000001\n",
      "hata:  0.16809999999999994 tahmin:  0.3900000000000001\n",
      "hata:  0.16402499999999992 tahmin:  0.39500000000000013\n",
      "hata:  0.15999999999999992 tahmin:  0.40000000000000013\n",
      "hata:  0.1560249999999999 tahmin:  0.40500000000000014\n",
      "hata:  0.15209999999999993 tahmin:  0.41000000000000014\n",
      "hata:  0.1482249999999999 tahmin:  0.41500000000000015\n",
      "hata:  0.14439999999999992 tahmin:  0.42000000000000015\n",
      "hata:  0.14062499999999992 tahmin:  0.42500000000000016\n",
      "hata:  0.1368999999999999 tahmin:  0.43000000000000016\n",
      "hata:  0.1332249999999999 tahmin:  0.43500000000000016\n",
      "hata:  0.1295999999999999 tahmin:  0.44000000000000017\n",
      "hata:  0.12602499999999991 tahmin:  0.4450000000000002\n",
      "hata:  0.1224999999999999 tahmin:  0.4500000000000002\n",
      "hata:  0.11902499999999991 tahmin:  0.4550000000000002\n",
      "hata:  0.1155999999999999 tahmin:  0.4600000000000002\n",
      "hata:  0.11222499999999991 tahmin:  0.4650000000000002\n",
      "hata:  0.1088999999999999 tahmin:  0.4700000000000002\n",
      "hata:  0.1056249999999999 tahmin:  0.4750000000000002\n",
      "hata:  0.1023999999999999 tahmin:  0.4800000000000002\n",
      "hata:  0.0992249999999999 tahmin:  0.4850000000000002\n",
      "hata:  0.0960999999999999 tahmin:  0.4900000000000002\n",
      "hata:  0.0930249999999999 tahmin:  0.4950000000000002\n",
      "hata:  0.0899999999999999 tahmin:  0.5000000000000002\n",
      "hata:  0.0870249999999999 tahmin:  0.5050000000000002\n",
      "hata:  0.0840999999999999 tahmin:  0.5100000000000002\n",
      "hata:  0.0812249999999999 tahmin:  0.5150000000000002\n",
      "hata:  0.07839999999999989 tahmin:  0.5200000000000002\n",
      "hata:  0.07562499999999989 tahmin:  0.5250000000000002\n",
      "hata:  0.0728999999999999 tahmin:  0.5300000000000002\n",
      "hata:  0.07022499999999988 tahmin:  0.5350000000000003\n",
      "hata:  0.06759999999999988 tahmin:  0.5400000000000003\n",
      "hata:  0.06502499999999989 tahmin:  0.5450000000000003\n",
      "hata:  0.06249999999999989 tahmin:  0.5500000000000003\n",
      "hata:  0.06002499999999989 tahmin:  0.5550000000000003\n",
      "hata:  0.05759999999999989 tahmin:  0.5600000000000003\n",
      "hata:  0.05522499999999989 tahmin:  0.5650000000000003\n",
      "hata:  0.05289999999999989 tahmin:  0.5700000000000003\n",
      "hata:  0.05062499999999989 tahmin:  0.5750000000000003\n",
      "hata:  0.04839999999999989 tahmin:  0.5800000000000003\n",
      "hata:  0.04622499999999989 tahmin:  0.5850000000000003\n",
      "hata:  0.04409999999999989 tahmin:  0.5900000000000003\n",
      "hata:  0.042024999999999896 tahmin:  0.5950000000000003\n",
      "hata:  0.0399999999999999 tahmin:  0.6000000000000003\n",
      "hata:  0.03802499999999989 tahmin:  0.6050000000000003\n",
      "hata:  0.036099999999999896 tahmin:  0.6100000000000003\n",
      "hata:  0.034224999999999894 tahmin:  0.6150000000000003\n",
      "hata:  0.0323999999999999 tahmin:  0.6200000000000003\n",
      "hata:  0.0306249999999999 tahmin:  0.6250000000000003\n",
      "hata:  0.0288999999999999 tahmin:  0.6300000000000003\n",
      "hata:  0.027224999999999902 tahmin:  0.6350000000000003\n",
      "hata:  0.025599999999999904 tahmin:  0.6400000000000003\n",
      "hata:  0.024024999999999904 tahmin:  0.6450000000000004\n",
      "hata:  0.022499999999999905 tahmin:  0.6500000000000004\n",
      "hata:  0.02102499999999991 tahmin:  0.6550000000000004\n",
      "hata:  0.01959999999999991 tahmin:  0.6600000000000004\n",
      "hata:  0.01822499999999991 tahmin:  0.6650000000000004\n",
      "hata:  0.016899999999999915 tahmin:  0.6700000000000004\n",
      "hata:  0.015624999999999917 tahmin:  0.6750000000000004\n",
      "hata:  0.01439999999999992 tahmin:  0.6800000000000004\n",
      "hata:  0.01322499999999992 tahmin:  0.6850000000000004\n",
      "hata:  0.012099999999999923 tahmin:  0.6900000000000004\n",
      "hata:  0.011024999999999925 tahmin:  0.6950000000000004\n",
      "hata:  0.009999999999999929 tahmin:  0.7000000000000004\n",
      "hata:  0.009024999999999932 tahmin:  0.7050000000000004\n",
      "hata:  0.008099999999999934 tahmin:  0.7100000000000004\n",
      "hata:  0.007224999999999937 tahmin:  0.7150000000000004\n",
      "hata:  0.0063999999999999405 tahmin:  0.7200000000000004\n",
      "hata:  0.005624999999999943 tahmin:  0.7250000000000004\n",
      "hata:  0.004899999999999947 tahmin:  0.7300000000000004\n",
      "hata:  0.00422499999999995 tahmin:  0.7350000000000004\n",
      "hata:  0.003599999999999953 tahmin:  0.7400000000000004\n",
      "hata:  0.0030249999999999565 tahmin:  0.7450000000000004\n"
     ]
    }
   ],
   "source": [
    "weight = 0.5\n",
    "_input = 0.5 \n",
    "hedef = 0.8\n",
    "\n",
    "learning_rate = 0.01\n",
    "\n",
    "step_sayısı = 100\n",
    "\n",
    "for i in range(step_sayısı):\n",
    "    \n",
    "    tahmin = _input * weight \n",
    "    hata = (tahmin - hedef) ** 2\n",
    "    \n",
    "    print(\"hata: \" , hata , \"tahmin: \" , tahmin)\n",
    "    yukari_tahmin = _input * (weight + learning_rate)\n",
    "    yukari_hata = (yukari_tahmin - hedef) **2 \n",
    "    \n",
    "    asagi_tahmin = _input * (weight - learning_rate)\n",
    "    asagi_hata = (hedef - asagi_tahmin)**2\n",
    "    \n",
    "    if asagi_hata < yukari_hata:\n",
    "        weight = weight - learning_rate\n",
    "    elif asagi_hata > yukari_hata:\n",
    "        weight = weight + learning_rate \n",
    "    else:\n",
    "        pass"
   ]
  },
  {
   "cell_type": "markdown",
   "metadata": {},
   "source": [
    "# TOLGA HOCA İLE GRADIENT DESCENT'E DOĞRU"
   ]
  },
  {
   "cell_type": "code",
   "execution_count": 44,
   "metadata": {},
   "outputs": [
    {
     "name": "stdout",
     "output_type": "stream",
     "text": [
      "hata:  0.30250000000000005       tahmin:  0.25\n",
      "hata:  0.17015625000000004       tahmin:  0.3875\n",
      "hata:  0.095712890625       tahmin:  0.49062500000000003\n",
      "hata:  0.05383850097656251       tahmin:  0.56796875\n",
      "hata:  0.03028415679931642       tahmin:  0.6259765625\n",
      "hata:  0.0170348381996155       tahmin:  0.669482421875\n",
      "hata:  0.00958209648728372       tahmin:  0.70211181640625\n",
      "hata:  0.005389929274097089       tahmin:  0.7265838623046875\n",
      "hata:  0.0030318352166796153       tahmin:  0.7449378967285156\n",
      "hata:  0.0017054073093822882       tahmin:  0.7587034225463867\n",
      "hata:  0.0009592916115275371       tahmin:  0.76902756690979\n",
      "hata:  0.0005396015314842384       tahmin:  0.7767706751823426\n",
      "hata:  0.000303525861459885       tahmin:  0.7825780063867569\n",
      "hata:  0.00017073329707118678       tahmin:  0.7869335047900676\n",
      "hata:  9.603747960254256e-05       tahmin:  0.7902001285925507\n",
      "hata:  5.402108227642978e-05       tahmin:  0.7926500964444131\n",
      "hata:  3.038685878049206e-05       tahmin:  0.7944875723333098\n",
      "hata:  1.7092608064027242e-05       tahmin:  0.7958656792499823\n",
      "hata:  9.614592036015323e-06       tahmin:  0.7968992594374867\n",
      "hata:  5.408208020258491e-06       tahmin:  0.7976744445781151\n"
     ]
    }
   ],
   "source": [
    "weight = 0.5\n",
    "hedef = 0.8\n",
    "_input = 0.5 \n",
    "\n",
    "for i in range(20):\n",
    "    tahmin = _input * weight \n",
    "    hata = (tahmin - hedef) ** 2 \n",
    "    \n",
    "    yon_ve_miktar_degisimi = (tahmin - hedef) * _input\n",
    "    \n",
    "    weight = weight - yon_ve_miktar_degisimi\n",
    "    \n",
    "    print(\"hata: \", hata, \"      tahmin: \" , tahmin)"
   ]
  },
  {
   "cell_type": "code",
   "execution_count": null,
   "metadata": {},
   "outputs": [],
   "source": []
  },
  {
   "cell_type": "code",
   "execution_count": null,
   "metadata": {},
   "outputs": [],
   "source": []
  },
  {
   "cell_type": "code",
   "execution_count": null,
   "metadata": {},
   "outputs": [],
   "source": []
  },
  {
   "cell_type": "code",
   "execution_count": null,
   "metadata": {},
   "outputs": [],
   "source": []
  },
  {
   "cell_type": "code",
   "execution_count": null,
   "metadata": {},
   "outputs": [],
   "source": []
  },
  {
   "cell_type": "code",
   "execution_count": null,
   "metadata": {},
   "outputs": [],
   "source": []
  },
  {
   "cell_type": "code",
   "execution_count": null,
   "metadata": {},
   "outputs": [],
   "source": []
  },
  {
   "cell_type": "code",
   "execution_count": null,
   "metadata": {},
   "outputs": [],
   "source": []
  },
  {
   "cell_type": "code",
   "execution_count": null,
   "metadata": {},
   "outputs": [],
   "source": []
  },
  {
   "cell_type": "code",
   "execution_count": null,
   "metadata": {},
   "outputs": [],
   "source": []
  },
  {
   "cell_type": "code",
   "execution_count": null,
   "metadata": {},
   "outputs": [],
   "source": []
  },
  {
   "cell_type": "code",
   "execution_count": null,
   "metadata": {},
   "outputs": [],
   "source": []
  },
  {
   "cell_type": "code",
   "execution_count": null,
   "metadata": {},
   "outputs": [],
   "source": []
  },
  {
   "cell_type": "code",
   "execution_count": null,
   "metadata": {},
   "outputs": [],
   "source": []
  },
  {
   "cell_type": "code",
   "execution_count": null,
   "metadata": {},
   "outputs": [],
   "source": []
  }
 ],
 "metadata": {
  "kernelspec": {
   "display_name": "Python 3",
   "language": "python",
   "name": "python3"
  },
  "language_info": {
   "codemirror_mode": {
    "name": "ipython",
    "version": 3
   },
   "file_extension": ".py",
   "mimetype": "text/x-python",
   "name": "python",
   "nbconvert_exporter": "python",
   "pygments_lexer": "ipython3",
   "version": "3.8.6"
  }
 },
 "nbformat": 4,
 "nbformat_minor": 4
}
